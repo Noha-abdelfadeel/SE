{
 "cells": [
  {
   "cell_type": "code",
   "execution_count": 1,
   "metadata": {},
   "outputs": [
    {
     "name": "stdout",
     "output_type": "stream",
     "text": [
      " You have 3 trail\n",
      "You Loose computer choose is Paper\n",
      "please try again\n",
      "you have 2 trails remaining\n"
     ]
    }
   ],
   "source": [
    "## Easy level\n",
    "import random\n",
    "option=['Paper','Rock', 'Scissors']\n",
    "Player=input(\"Please choose your input 'Paper','Rock', 'Scissors'\")\n",
    "Computer_choose=random.choice(option)\n",
    "trial=3\n",
    "if Player in option:\n",
    "    while True:\n",
    "        print(' You have 3 trail')\n",
    "        if trial==0:\n",
    "            print('You Loose ')\n",
    "            break\n",
    "        if Computer_choose== Player:\n",
    "            print(Computer_choose)\n",
    "            print('You Wine')\n",
    "        elif Player=='Paper' and Computer_choose=='Rock':\n",
    "            print('You Wine')\n",
    "        elif Player=='Rock' and Computer_choose=='Scissors':\n",
    "            print('You Wine')\n",
    "        elif Player=='Scissors' and Computer_choose=='Paper':\n",
    "            print('You Wine')\n",
    "        else:\n",
    "            print(f'You Loose computer choose is {Computer_choose}')\n",
    "            break\n",
    "    trial -= 1\n",
    "    print('please try again')\n",
    "    print(f'you have {trial} trails remaining')\n",
    "else:\n",
    "    print(\"Please check you spilling, You should choose 'Paper','Rock', 'Scissors'\")"
   ]
  },
  {
   "cell_type": "code",
   "execution_count": 2,
   "metadata": {},
   "outputs": [],
   "source": [
    "## difficulty_level\n",
    "def difficulty_level(easy_hard):\n",
    "    '''This function determines the level of the game. You must choose the level of play, easy or hard'''\n",
    "    if easy_hard=='hard':\n",
    "        return 5\n",
    "    elif easy_hard=='easy':\n",
    "        return 3\n",
    "    else:\n",
    "        again=input('Please check your spilling you should enter \"hard\" or \"easy\" : ')\n",
    "        difficulty_level(again)"
   ]
  },
  {
   "cell_type": "code",
   "execution_count": 3,
   "metadata": {},
   "outputs": [],
   "source": [
    "difficulty_level('Hard')\n"
   ]
  },
  {
   "cell_type": "code",
   "execution_count": 4,
   "metadata": {},
   "outputs": [],
   "source": [
    "import random\n",
    "option=['Paper','Rock', 'Scissors']\n",
    "Player=input(\"Please choose your input 'Paper','Rock', 'Scissors'\")\n",
    "Computer_choose=random.choice(option)\n",
    "difficulty=input('Please choose the difficulty of the game \"easy\" or \"hard\": ')\n",
    "trial=difficulty_level(difficulty)\n",
    "if Player in option:\n",
    "    while True:\n",
    "        print(f' You have {trial} trail')\n",
    "        if trial==0:\n",
    "            print('You Loose ')\n",
    "            break\n",
    "        if Computer_choose== Player:\n",
    "            print(Computer_choose)\n",
    "            print('You Wine')\n",
    "        elif Player=='Paper' and Computer_choose=='Rock':\n",
    "            print('You Wine')\n",
    "        elif Player=='Rock' and Computer_choose=='Scissors':\n",
    "            print('You Wine')\n",
    "        elif Player=='Scissors' and Computer_choose=='Paper':\n",
    "            print('You Wine')\n",
    "        else:\n",
    "            print(f'You Loose computer choose is {Computer_choose}')\n",
    "            break\n",
    "    trial -= 1\n",
    "    print('please try again')\n",
    "    print(f'you have {trial} trails remaining')\n",
    "else:\n",
    "    print(\"Please check you spilling, You should choose 'Paper','Rock', 'Scissors'\")"
   ]
  }
 ],
 "metadata": {
  "kernelspec": {
   "display_name": "base",
   "language": "python",
   "name": "python3"
  },
  "language_info": {
   "codemirror_mode": {
    "name": "ipython",
    "version": 3
   },
   "file_extension": ".py",
   "mimetype": "text/x-python",
   "name": "python",
   "nbconvert_exporter": "python",
   "pygments_lexer": "ipython3",
   "version": "3.9.13"
  }
 },
 "nbformat": 4,
 "nbformat_minor": 2
}
