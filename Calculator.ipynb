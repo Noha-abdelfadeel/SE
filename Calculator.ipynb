{
 "cells": [
  {
   "cell_type": "code",
   "execution_count": 10,
   "metadata": {},
   "outputs": [
    {
     "name": "stdout",
     "output_type": "stream",
     "text": [
      "subtraction is = 8.0\n"
     ]
    }
   ],
   "source": [
    "# easy Calculator\n",
    "Num1=float(input(' Please input num1 :'))\n",
    "Num2=float(input(' Please input num2 :'))\n",
    "Operation=input(\"Please input your Operation 'Addition', 'subtraction', 'multiplication', 'division', 'Exponent'\")\n",
    "\n",
    "def add (Num1,Num2):\n",
    "    return Num1+Num2\n",
    "\n",
    "def subtraction (Num1,Num2):\n",
    "    return Num1-Num2\n",
    "\n",
    "def multiplication (Num1,Num2):\n",
    "    return Num1*Num2\n",
    "\n",
    "def division (Num1,Num2):\n",
    "    try:\n",
    "        return Num1/Num2\n",
    "    except:\n",
    "        print('Cannot divide by zero')\n",
    "\n",
    "def Exponent (Num1,Num2):\n",
    "    return Num1**Num2\n",
    "\n",
    "Arithmetic_Method=['Addition', 'subtraction', 'multiplication', 'division', 'Exponent']\n",
    "\n",
    "if Operation in Arithmetic_Method:\n",
    "    if Operation=='Addition':\n",
    "        print(f'Addition = {add(Num1,Num2)}')\n",
    "    elif Operation=='subtraction':\n",
    "        print(f'subtraction is = {subtraction(Num1,Num2)}')\n",
    "    elif Operation=='multiplication':\n",
    "        print(f'multiplication is = {multiplication(Num1,Num2)}')\n",
    "    elif Operation=='division':\n",
    "        print(f'division is {division(Num1,Num2)}')\n",
    "    elif Operation=='Exponent':\n",
    "        print(f'Exponent is = {Exponent(Num1,Num2)}')\n",
    "\n",
    "else:\n",
    "    print(\"Please check spelling, you should choose Arithmetic method 'Addition', 'subtraction', 'multiplication', 'division', 'Exponent'\")\n",
    "\n"
   ]
  },
  {
   "cell_type": "code",
   "execution_count": 12,
   "metadata": {},
   "outputs": [
    {
     "name": "stdout",
     "output_type": "stream",
     "text": [
      "division is 5.0\n"
     ]
    }
   ],
   "source": [
    "# easy Calculator\n",
    "Num1=float(input(' Please input num1 :'))\n",
    "Num2=float(input(' Please input num2 :'))\n",
    "Operation=input(\"Please input your Operation '+', '-', '*', '/', '**'\")\n",
    "\n",
    "def add (Num1,Num2):\n",
    "    result=Num1+Num2\n",
    "    return result\n",
    "\n",
    "def subtraction (Num1,Num2):\n",
    "    result= Num1-Num2\n",
    "    return result\n",
    "\n",
    "def multiplication (Num1,Num2):\n",
    "    result= Num1*Num2\n",
    "    return result\n",
    "\n",
    "def division (Num1,Num2):\n",
    "    try:\n",
    "        result= Num1/Num2\n",
    "        return result\n",
    "    except:\n",
    "        print('We can not divide on Zero')\n",
    "\n",
    "def Exponent (Num1,Num2):\n",
    "    result= Num1**Num2\n",
    "    return result\n",
    "\n",
    "Arithmetic_Method=['+','-', '*','/', '**']\n",
    "\n",
    "if Operation in Arithmetic_Method:\n",
    "    if Operation=='+':\n",
    "        print(f'Addition = {add(Num1,Num2)}')\n",
    "    elif Operation=='-':\n",
    "        print(f'subtraction is = {subtraction(Num1,Num2)}')\n",
    "    elif Operation=='*':\n",
    "        print(f'multiplication is = {multiplication(Num1,Num2)}')\n",
    "    elif Operation=='/':\n",
    "        print(f'division is {division(Num1,Num2)}')\n",
    "    elif Operation=='**':\n",
    "        print(f'Exponent is = {Exponent(Num1,Num2)}')\n",
    "\n",
    "else:\n",
    "    print(\"Please check yor input you should choose Arithmetic method '+', '-', '*', '/', '**'\")"
   ]
  },
  {
   "cell_type": "code",
   "execution_count": 13,
   "metadata": {},
   "outputs": [
    {
     "name": "stdout",
     "output_type": "stream",
     "text": [
      "division is = 5.0\n"
     ]
    }
   ],
   "source": [
    "# Hard Calculator\n",
    "Arg=list(map(int,input('Please input your Arg separator with , :').split(',')))\n",
    "Operation=input(\"Please input your Operation '+', '-', '*', '/', '**'\")\n",
    "\n",
    "def add (*Arg):\n",
    "    result=sum(Arg)\n",
    "    return result\n",
    "\n",
    "def subtraction (*Arg):\n",
    "    result= Arg[0]\n",
    "    for i in range (1,len(Arg)):\n",
    "        result -=Arg[i]\n",
    "    return result\n",
    "\n",
    "def multiplication (*Arg):\n",
    "    result= Arg[0]\n",
    "    for i in range (1,len(Arg)):\n",
    "        result *=Arg[i]\n",
    "    return result\n",
    "\n",
    "def division (*Arg):\n",
    "    result= Arg[0]\n",
    "    for i in range (1,len(Arg)):\n",
    "        try:\n",
    "            result = result/Arg[i]\n",
    "        except:\n",
    "            print('Cannot divide by Zero')\n",
    "    return result\n",
    "\n",
    "def Exponent (*Arg):\n",
    "    result= Arg[0]\n",
    "    for i in range (1,len(Arg)):\n",
    "        result = result**Arg[i]\n",
    "    return result\n",
    "\n",
    "Arithmetic_Method=['+','-', '*','/', '**']\n",
    "\n",
    "if Operation in Arithmetic_Method:\n",
    "    if Operation=='+':\n",
    "        print(f'Addition = {add (*Arg)}')\n",
    "    elif Operation=='-':\n",
    "        print(f'subtraction is + {subtraction(*Arg)}')\n",
    "    elif Operation=='*':\n",
    "        print(f'multiplication is : {multiplication(*Arg)}')\n",
    "    elif Operation=='/':\n",
    "        print(f'division is = {division(*Arg)}')\n",
    "    elif Operation=='**':\n",
    "        print(f'Exponent is = {Exponent(*Arg)}')\n",
    "\n",
    "else:\n",
    "    print(\"Please check yor input you should choose Arithmetic method '+', '-', '*', '/', '**'\")"
   ]
  }
 ],
 "metadata": {
  "kernelspec": {
   "display_name": "base",
   "language": "python",
   "name": "python3"
  },
  "language_info": {
   "codemirror_mode": {
    "name": "ipython",
    "version": 3
   },
   "file_extension": ".py",
   "mimetype": "text/x-python",
   "name": "python",
   "nbconvert_exporter": "python",
   "pygments_lexer": "ipython3",
   "version": "3.9.13"
  }
 },
 "nbformat": 4,
 "nbformat_minor": 2
}
